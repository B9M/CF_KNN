{
 "cells": [
  {
   "cell_type": "code",
   "execution_count": 6,
   "source": [
    "import pandas as pd\n",
    "RatingsColumns = ['userId','movieId','rating']\n",
    "RatingsDataSet = pd.read_csv('ratings.dataset',sep='\\t',names=RatingsColumns,usecols=range(3))\n",
    "MoviesColumns = ['movieId','title']\n",
    "MoviesDataSet = pd.read_csv('movies.dataset',sep='|',names=MoviesColumns,usecols=range(2))\n",
    "MoviesRatingDataSet = pd.merge(MoviesDataSet,RatingsDataSet)\n"
   ],
   "outputs": [],
   "metadata": {}
  },
  {
   "cell_type": "code",
   "execution_count": 67,
   "source": [
    "RatingsColumns = ['userId','movieId','rating']\n",
    "RatingsDataSet = pd.read_csv('v2/ratings.dataset',sep=',',names=RatingsColumns,usecols=range(3))\n",
    "MoviesColumns = ['movieId','title']\n",
    "MoviesDataSet = pd.read_csv('v2/movies.dataset',sep=',',names=MoviesColumns,usecols=range(2))\n",
    "MoviesRatingDataSet = pd.merge(MoviesDataSet,RatingsDataSet)"
   ],
   "outputs": [],
   "metadata": {}
  },
  {
   "cell_type": "code",
   "execution_count": 68,
   "source": [
    "print('Movies Dimension : '+str(MoviesDataSet.shape))\n",
    "print('Ratings Dimension : '+str(RatingsDataSet.shape))"
   ],
   "outputs": [
    {
     "output_type": "stream",
     "name": "stdout",
     "text": [
      "Movies Dimension : (9742, 2)\n",
      "Ratings Dimension : (100836, 3)\n"
     ]
    }
   ],
   "metadata": {}
  },
  {
   "cell_type": "code",
   "execution_count": 78,
   "source": [
    "MoviesUsers = RatingsDataSet.pivot(index='movieId',columns='userId',values='rating').fillna(0)\n",
    "print('Matrix [Movies * Users] = '+str(MoviesUsers.shape))"
   ],
   "outputs": [
    {
     "output_type": "stream",
     "name": "stdout",
     "text": [
      "Matrix [Movies * Users]: (9724, 610)\n"
     ]
    }
   ],
   "metadata": {}
  },
  {
   "cell_type": "code",
   "execution_count": 71,
   "source": [
    "from scipy.sparse import csc_matrix\n",
    "sparseMatrix = csc_matrix(MoviesUsers.values)"
   ],
   "outputs": [],
   "metadata": {}
  },
  {
   "cell_type": "code",
   "execution_count": 72,
   "source": [
    "from sklearn.neighbors import NearestNeighbors\n",
    "model = NearestNeighbors(metric='cosine',algorithm='brute',n_neighbors=20)\n",
    "model.fit(sparseMatrix)"
   ],
   "outputs": [
    {
     "output_type": "execute_result",
     "data": {
      "text/plain": [
       "NearestNeighbors(algorithm='brute', metric='cosine', n_neighbors=20)"
      ]
     },
     "metadata": {},
     "execution_count": 72
    }
   ],
   "metadata": {}
  },
  {
   "cell_type": "code",
   "execution_count": 73,
   "source": [
    "from fuzzywuzzy import process\n",
    "process.extractOne('iron man',MoviesDataSet['title'])\n",
    "# ======> ('Toy Story (1995)', 90, 0) 90 elements Matchs, indice of element is 0"
   ],
   "outputs": [
    {
     "output_type": "execute_result",
     "data": {
      "text/plain": [
       "('Iron Man (2008)', 90, 6743)"
      ]
     },
     "metadata": {},
     "execution_count": 73
    }
   ],
   "metadata": {}
  },
  {
   "cell_type": "code",
   "execution_count": 74,
   "source": [
    "def KNNRecommender(movieName,movies,sparseData,nNeighbours):\n",
    "    MovieIndex = process.extractOne(movieName,movies)[2]\n",
    "    print('Movie : ',movies[MovieIndex],'- Index : ',MovieIndex)\n",
    "    RecMoviesDsitances,RecMoviesIndices = model.kneighbors(sparseData[MovieIndex],n_neighbors=nNeighbours)\n",
    "    for i in RecMoviesIndices : \n",
    "        print(movies[i])"
   ],
   "outputs": [],
   "metadata": {}
  },
  {
   "cell_type": "code",
   "execution_count": 75,
   "source": [
    "KNNRecommender('iron man',MoviesDataSet['title'],sparseMatrix,10)"
   ],
   "outputs": [
    {
     "output_type": "stream",
     "name": "stdout",
     "text": [
      "Movie :  Iron Man (2008) - Index :  6743\n",
      "6743                                Iron Man (2008)\n",
      "7197                                  Garage (2007)\n",
      "7195                        Merry Madagascar (2009)\n",
      "7354                             A-Team, The (2010)\n",
      "6726                         Superhero Movie (2008)\n",
      "7137                         Thirst (Bakjwi) (2009)\n",
      "7026                                 Scorpio (1973)\n",
      "7571                                 Win Win (2011)\n",
      "3880                  Look Who's Talking Now (1993)\n",
      "6388    After the Wedding (Efter brylluppet) (2006)\n",
      "Name: title, dtype: object\n"
     ]
    }
   ],
   "metadata": {}
  }
 ],
 "metadata": {
  "orig_nbformat": 4,
  "language_info": {
   "name": "python",
   "version": "3.9.7",
   "mimetype": "text/x-python",
   "codemirror_mode": {
    "name": "ipython",
    "version": 3
   },
   "pygments_lexer": "ipython3",
   "nbconvert_exporter": "python",
   "file_extension": ".py"
  },
  "kernelspec": {
   "name": "python3",
   "display_name": "Python 3.9.7 64-bit ('base': conda)"
  },
  "interpreter": {
   "hash": "f6b83054e1132c458abc6bc952aed8e7f239d03c9d9803bf8592b5ee264d7ff5"
  }
 },
 "nbformat": 4,
 "nbformat_minor": 2
}